{
  "nbformat": 4,
  "nbformat_minor": 0,
  "metadata": {
    "colab": {
      "provenance": []
    },
    "kernelspec": {
      "name": "python3",
      "display_name": "Python 3"
    },
    "language_info": {
      "name": "python"
    }
  },
  "cells": [
    {
      "cell_type": "markdown",
      "source": [
        "# CAM - XAI Technique"
      ],
      "metadata": {
        "id": "fclMb4Z-x38b"
      }
    },
    {
      "cell_type": "code",
      "execution_count": null,
      "metadata": {
        "id": "_nHY0JG5iORJ",
        "colab": {
          "base_uri": "https://localhost:8080/"
        },
        "outputId": "63a29a9b-c53d-4c72-e056-653d4879f801"
      },
      "outputs": [
        {
          "output_type": "stream",
          "name": "stdout",
          "text": [
            "Drive already mounted at /content/gdrive; to attempt to forcibly remount, call drive.mount(\"/content/gdrive\", force_remount=True).\n"
          ]
        }
      ],
      "source": [
        "from google.colab import drive\n",
        "drive.mount('/content/gdrive')"
      ]
    },
    {
      "cell_type": "code",
      "source": [
        "from tensorflow import keras \n",
        "from tensorflow.keras import layers\n",
        "import tensorflow as tf\n",
        "import matplotlib.pyplot as plt\n",
        "import numpy as np\n",
        "import tensorflow as tf\n",
        "import matplotlib.pyplot as plt\n",
        "from tensorflow.keras.applications.xception import decode_predictions\n",
        "%matplotlib inline"
      ],
      "metadata": {
        "id": "vb-hYkDFimiw"
      },
      "execution_count": null,
      "outputs": []
    },
    {
      "cell_type": "code",
      "source": [
        "model = keras.applications.xception.Xception(weights=\"imagenet\")"
      ],
      "metadata": {
        "id": "qgqLIztPiYJJ"
      },
      "execution_count": null,
      "outputs": []
    },
    {
      "cell_type": "markdown",
      "source": [
        "#  Brain tumor image"
      ],
      "metadata": {
        "id": "JKHIQcZv-1yU"
      }
    },
    {
      "cell_type": "code",
      "source": [
        "img_path = keras.utils.get_file(\n",
        "    fname = 'Brain Tumor',\n",
        "    origin = 'https://upload.wikimedia.org/wikipedia/commons/thumb/5/5f/Hirnmetastase_MRT-T1_KM.jpg/300px-Hirnmetastase_MRT-T1_KM.jpg')\n",
        "\n",
        "def get_img_array(img_path, target_size):\n",
        "  img = keras.utils.load_img(img_path, target_size=target_size)\n",
        "  array = keras.utils.img_to_array(img)\n",
        "  array = np.expand_dims(array, axis=0)\n",
        "  array = keras.applications.xception.preprocess_input(array)\n",
        "  return array\n",
        "  \n",
        "img_array = get_img_array(img_path, target_size=(299, 299))"
      ],
      "metadata": {
        "id": "pi596PmTi4Lj",
        "colab": {
          "base_uri": "https://localhost:8080/"
        },
        "outputId": "19dfb085-b155-43ba-8fcf-cbdd0246fdf2"
      },
      "execution_count": null,
      "outputs": [
        {
          "output_type": "stream",
          "name": "stdout",
          "text": [
            "Downloading data from https://upload.wikimedia.org/wikipedia/commons/thumb/5/5f/Hirnmetastase_MRT-T1_KM.jpg/300px-Hirnmetastase_MRT-T1_KM.jpg\n",
            "15874/15874 [==============================] - 0s 0us/step\n"
          ]
        }
      ]
    },
    {
      "cell_type": "code",
      "source": [
        "last_conv_layer_name = \"block14_sepconv2_act\"\n",
        "classifier_layer_names = [\n",
        "    \"avg_pool\",\n",
        "    \"predictions\",\n",
        "]\n",
        "last_conv_layer = model.get_layer(last_conv_layer_name)\n",
        "last_conv_layer_model = keras.Model(model.inputs, last_conv_layer.output)"
      ],
      "metadata": {
        "id": "HgQfjr_Pj245"
      },
      "execution_count": null,
      "outputs": []
    },
    {
      "cell_type": "code",
      "source": [
        "classifier_input = keras.Input(shape=last_conv_layer.output.shape[1:])\n",
        "x = classifier_input\n",
        "for layer_name in classifier_layer_names:\n",
        "  x = model.get_layer(layer_name)(x)\n",
        "  classifier_model = keras.Model(classifier_input, x)"
      ],
      "metadata": {
        "id": "y994V9SHkBjr"
      },
      "execution_count": null,
      "outputs": []
    },
    {
      "cell_type": "code",
      "source": [
        "with tf.GradientTape() as tape:\n",
        "  last_conv_layer_output = last_conv_layer_model(img_array)\n",
        "  tape.watch(last_conv_layer_output)\n",
        "  preds = classifier_model(last_conv_layer_output)\n",
        "  top_pred_index = tf.argmax(preds[0])\n",
        "  top_class_channel = preds[:, top_pred_index]\n",
        "grads = tape.gradient(top_class_channel, last_conv_layer_output)"
      ],
      "metadata": {
        "id": "cOMESwDZkLrF"
      },
      "execution_count": null,
      "outputs": []
    },
    {
      "cell_type": "code",
      "source": [
        "pooled_grads = tf.reduce_mean(grads, axis=(0, 1, 2)).numpy()\n",
        "last_conv_layer_output = last_conv_layer_output.numpy()[0]\n",
        "for i in range(pooled_grads.shape[-1]):\n",
        "  last_conv_layer_output[:, :, i] *= pooled_grads[i]\n",
        "  heatmap = np.mean(last_conv_layer_output, axis=-1)"
      ],
      "metadata": {
        "id": "w7FfG8z_kXVR"
      },
      "execution_count": null,
      "outputs": []
    },
    {
      "cell_type": "code",
      "source": [
        "heatmap = np.maximum(heatmap, 0)\n",
        "heatmap /= np.max(heatmap)\n",
        "plt.matshow(heatmap)\n",
        "plt.axis('off')"
      ],
      "metadata": {
        "colab": {
          "base_uri": "https://localhost:8080/",
          "height": 427
        },
        "id": "ZtstfsjskbNO",
        "outputId": "4fbd118e-91d2-4609-c045-fc1a8794e26f"
      },
      "execution_count": null,
      "outputs": [
        {
          "output_type": "execute_result",
          "data": {
            "text/plain": [
              "(-0.5, 9.5, 9.5, -0.5)"
            ]
          },
          "metadata": {},
          "execution_count": 28
        },
        {
          "output_type": "display_data",
          "data": {
            "text/plain": [
              "<Figure size 480x480 with 1 Axes>"
            ],
            "image/png": "[encoded data removed]"
          },
          "metadata": {}
        }
      ]
    },
    {
      "cell_type": "code",
      "source": [
        "import matplotlib\n",
        "import matplotlib.cm as cm\n",
        "import matplotlib.pyplot as plt\n",
        "from IPython.display import set_matplotlib_formats\n",
        "\n",
        "\n",
        "img = keras.utils.load_img(img_path)\n",
        "img = keras.utils.img_to_array(img)\n",
        "\n",
        "heatmap = np.uint8(255 * heatmap)\n",
        "jet = cm.get_cmap(\"jet\")\n",
        "jet_colors = jet(np.arange(256))[:, :3]\n",
        "jet_heatmap = jet_colors[heatmap]\n",
        "\n",
        "jet_heatmap = keras.utils.array_to_img(jet_heatmap)\n",
        "jet_heatmap = jet_heatmap.resize((img.shape[1], img.shape[0]))\n",
        "jet_heatmap = keras.utils.img_to_array(jet_heatmap)\n",
        "\n",
        "superimposed_img = jet_heatmap * 0.4 + img\n",
        "superimposed_img = keras.utils.array_to_img(superimposed_img)\n",
        "\n",
        "save_path = \"/content/gdrive/MyDrive/tumor2_cam.jpg\"\n",
        "superimposed_img.save(save_path)"
      ],
      "metadata": {
        "colab": {
          "base_uri": "https://localhost:8080/"
        },
        "id": "5Ot2Ci2RkezE",
        "outputId": "2520cf57-31b7-4bc2-c26c-49bbba015069"
      },
      "execution_count": null,
      "outputs": [
        {
          "output_type": "stream",
          "name": "stderr",
          "text": [
            "<ipython-input-29-767738e3332b>:11: MatplotlibDeprecationWarning: The get_cmap function was deprecated in Matplotlib 3.7 and will be removed two minor releases later. Use ``matplotlib.colormaps[name]`` or ``matplotlib.colormaps.get_cmap(obj)`` instead.\n",
            "  jet = cm.get_cmap(\"jet\")\n"
          ]
        }
      ]
    },
    {
      "cell_type": "code",
      "source": [
        "from IPython.display import Image\n",
        "display(Image(filename='/content/gdrive/MyDrive/tumor2_cam.jpg', width = 400))"
      ],
      "metadata": {
        "colab": {
          "base_uri": "https://localhost:8080/",
          "height": 450
        },
        "id": "ke5LEQf-wMJ4",
        "outputId": "f5f20bd8-7c93-40f5-9738-b5f9782744d5"
      },
      "execution_count": null,
      "outputs": [
        {
          "output_type": "display_data",
          "data": {
            "image/jpeg": "[encoded data removed]",
            "text/plain": [
              "<IPython.core.display.Image object>"
            ]
          },
          "metadata": {
            "image/jpeg": {
              "width": 400
            }
          }
        }
      ]
    },
    {
      "cell_type": "markdown",
      "source": [
        "Reference: Deep Learning with Python - Manning Publications (2021) - François Chollet"
      ],
      "metadata": {
        "id": "WETiOHISwk4U"
      }
    }
  ]
}